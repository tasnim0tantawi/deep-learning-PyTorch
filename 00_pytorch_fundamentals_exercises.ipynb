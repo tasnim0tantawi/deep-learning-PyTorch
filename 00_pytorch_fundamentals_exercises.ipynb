{
  "nbformat": 4,
  "nbformat_minor": 0,
  "metadata": {
    "colab": {
      "provenance": [],
      "include_colab_link": true
    },
    "kernelspec": {
      "name": "python3",
      "display_name": "Python 3"
    },
    "language_info": {
      "name": "python"
    },
    "accelerator": "GPU"
  },
  "cells": [
    {
      "cell_type": "markdown",
      "metadata": {
        "id": "view-in-github",
        "colab_type": "text"
      },
      "source": [
        "<a href=\"https://colab.research.google.com/github/tasnim0tantawi/deep-learning-PyTorch/blob/main/00_pytorch_fundamentals_exercises.ipynb\" target=\"_parent\"><img src=\"https://colab.research.google.com/assets/colab-badge.svg\" alt=\"Open In Colab\"/></a>"
      ]
    },
    {
      "cell_type": "markdown",
      "source": [
        "# 00. PyTorch Fundamentals Exercises\n",
        "\n",
        "### 1. Documentation reading \n",
        "\n",
        "A big part of deep learning (and learning to code in general) is getting familiar with the documentation of a certain framework you're using. We'll be using the PyTorch documentation a lot throughout the rest of this course. So I'd recommend spending 10-minutes reading the following (it's okay if you don't get some things for now, the focus is not yet full understanding, it's awareness):\n",
        "  * The documentation on [`torch.Tensor`](https://pytorch.org/docs/stable/tensors.html#torch-tensor).\n",
        "  * The documentation on [`torch.cuda`](https://pytorch.org/docs/master/notes/cuda.html#cuda-semantics).\n",
        "\n"
      ],
      "metadata": {
        "id": "AzDBM_v4iMe7"
      }
    },
    {
      "cell_type": "code",
      "source": [
        "# No code solution (reading)"
      ],
      "metadata": {
        "id": "bGD0oD8Kizak"
      },
      "execution_count": null,
      "outputs": []
    },
    {
      "cell_type": "markdown",
      "source": [
        "### 2. Create a random tensor with shape `(7, 7)`.\n"
      ],
      "metadata": {
        "id": "__iXqqz-ioUJ"
      }
    },
    {
      "cell_type": "code",
      "source": [
        "import torch\n",
        "tensor1 = torch.randn(size=(7,7))\n",
        "tensor2 = torch.randn(size=(1,7))\n",
        "\n",
        "tensor1, tensor2\n",
        "\n",
        "\n"
      ],
      "metadata": {
        "id": "6pUq9Dc8i2L7",
        "colab": {
          "base_uri": "https://localhost:8080/"
        },
        "outputId": "d63468a6-69be-4cd0-ebb1-f6f37c440e1d"
      },
      "execution_count": 3,
      "outputs": [
        {
          "output_type": "execute_result",
          "data": {
            "text/plain": [
              "(tensor([[ 1.3856, -0.6998,  1.3270, -0.3333, -0.7711, -0.1156, -0.5781],\n",
              "         [ 0.2077,  0.4938,  1.7203,  0.3133, -1.2446, -0.8080,  1.0435],\n",
              "         [-0.3934, -0.5741,  0.3203,  0.1616,  0.9256, -0.2249, -0.4807],\n",
              "         [ 1.5990,  0.4099, -2.3027, -1.3561,  0.1101,  1.2703,  1.3122],\n",
              "         [-0.9229,  0.4294,  0.4444, -1.1751, -1.0308, -0.7591, -0.2647],\n",
              "         [ 2.4324,  1.0683,  0.1428,  0.1014, -1.2074,  0.2386,  0.8159],\n",
              "         [ 0.9025,  0.8917, -0.1011, -1.2106,  1.9003, -0.2835,  0.8151]]),\n",
              " tensor([[ 0.6821, -1.8012,  0.2614,  0.9443,  1.6396,  3.3392, -0.3040]]))"
            ]
          },
          "metadata": {},
          "execution_count": 3
        }
      ]
    },
    {
      "cell_type": "markdown",
      "source": [
        "### 3. Perform a matrix multiplication on the tensor from 2 with another random tensor with shape `(1, 7)` (hint: you may have to transpose the second tensor)."
      ],
      "metadata": {
        "id": "9-XxvRLfiqkR"
      }
    },
    {
      "cell_type": "code",
      "source": [
        "# Perform matrix multiplication \n",
        "mul = tensor1 @ tensor2.T \n",
        "mul2 = torch.matmul(tensor1, tensor2.T)\n",
        "print(mul, mul2)"
      ],
      "metadata": {
        "id": "NcLqR0Sbi_vT",
        "colab": {
          "base_uri": "https://localhost:8080/"
        },
        "outputId": "e7e277d9-0b62-4861-80af-63e5e5e4879b"
      },
      "execution_count": 4,
      "outputs": [
        {
          "output_type": "stream",
          "name": "stdout",
          "text": [
            "tensor([[ 0.7634],\n",
            "        [-5.0583],\n",
            "        [ 1.9148],\n",
            "        [ 2.4931],\n",
            "        [-6.5408],\n",
            "        [-1.5631],\n",
            "        [-0.2386]]) tensor([[ 0.7634],\n",
            "        [-5.0583],\n",
            "        [ 1.9148],\n",
            "        [ 2.4931],\n",
            "        [-6.5408],\n",
            "        [-1.5631],\n",
            "        [-0.2386]])\n"
          ]
        }
      ]
    },
    {
      "cell_type": "markdown",
      "source": [
        "### 4. Set the random seed to `0` and do 2 & 3 over again.\n",
        "\n",
        "The output should be:\n",
        "```\n",
        "(tensor([[1.8542],\n",
        "         [1.9611],\n",
        "         [2.2884],\n",
        "         [3.0481],\n",
        "         [1.7067],\n",
        "         [2.5290],\n",
        "         [1.7989]]), torch.Size([7, 1]))\n",
        "```"
      ],
      "metadata": {
        "id": "eiutdKUFiryU"
      }
    },
    {
      "cell_type": "code",
      "source": [
        "# Set manual seed\n",
        "SEED = 0\n",
        "\n",
        "torch.manual_seed(seed=SEED)\n",
        "tensor1 = torch.randn(size=(7, 7))\n",
        "\n",
        "torch.manual_seed(seed=SEED)\n",
        "tensor2 = torch.randn(size=(7, 7))\n",
        "print(tensor1==tensor2)\n",
        "print(tensor1 @ tensor2)\n",
        "\n"
      ],
      "metadata": {
        "id": "D-lOWI_1jRMm",
        "colab": {
          "base_uri": "https://localhost:8080/"
        },
        "outputId": "7ceabdcd-6469-4d9c-b6f6-afde805e6b17"
      },
      "execution_count": 8,
      "outputs": [
        {
          "output_type": "stream",
          "name": "stdout",
          "text": [
            "tensor([[True, True, True, True, True, True, True],\n",
            "        [True, True, True, True, True, True, True],\n",
            "        [True, True, True, True, True, True, True],\n",
            "        [True, True, True, True, True, True, True],\n",
            "        [True, True, True, True, True, True, True],\n",
            "        [True, True, True, True, True, True, True],\n",
            "        [True, True, True, True, True, True, True]])\n",
            "tensor([[ 4.9215,  1.2452,  2.2888,  0.2346, -2.5678,  0.0165,  0.5293],\n",
            "        [ 2.0765,  7.4165,  0.8298,  1.7133, -0.6009, -2.8773, -0.8510],\n",
            "        [ 2.2317,  2.3053, -1.9719, -0.3354,  1.5266,  0.2913, -1.3854],\n",
            "        [ 2.8104,  0.7046, -1.0625, -1.8512, -0.0526, -0.4246,  0.3262],\n",
            "        [-1.6429,  1.3891, -7.7341, -2.5960,  4.6502,  1.1105,  0.5393],\n",
            "        [-0.3762,  1.4955,  0.1894,  0.4410,  1.0550, -1.0226, -1.7264],\n",
            "        [-8.3027, -1.3600, -0.9380,  2.0054, -1.1136,  2.6662,  5.8636]])\n"
          ]
        }
      ]
    },
    {
      "cell_type": "markdown",
      "source": [
        "### 5. Speaking of random seeds, we saw how to set it with `torch.manual_seed()` but is there a GPU equivalent? (hint: you'll need to look into the documentation for `torch.cuda` for this one)\n",
        "  * If there is, set the GPU random seed to `1234`."
      ],
      "metadata": {
        "id": "ezY6ks9Cis37"
      }
    },
    {
      "cell_type": "code",
      "source": [
        "# Set random seed on the GPU\n",
        "device = \"cuda\" if torch.cuda.is_available() else \"CPU\"\n",
        "device\n",
        "\n",
        "\n"
      ],
      "metadata": {
        "id": "_LKWcfSTjp00",
        "colab": {
          "base_uri": "https://localhost:8080/",
          "height": 36
        },
        "outputId": "960f0c61-957e-42bf-9ccf-491915ac135c"
      },
      "execution_count": 9,
      "outputs": [
        {
          "output_type": "execute_result",
          "data": {
            "text/plain": [
              "'cuda'"
            ],
            "application/vnd.google.colaboratory.intrinsic+json": {
              "type": "string"
            }
          },
          "metadata": {},
          "execution_count": 9
        }
      ]
    },
    {
      "cell_type": "markdown",
      "source": [
        "\n",
        "### 6. Create two random tensors of shape `(2, 3)` and send them both to the GPU (you'll need access to a GPU for this). Set `torch.manual_seed(1234)` when creating the tensors (this doesn't have to be the GPU random seed). The output should be something like:\n",
        "\n",
        "```\n",
        "Device: cuda\n",
        "(tensor([[0.0290, 0.4019, 0.2598],\n",
        "         [0.3666, 0.0583, 0.7006]], device='cuda:0'),\n",
        " tensor([[0.0518, 0.4681, 0.6738],\n",
        "         [0.3315, 0.7837, 0.5631]], device='cuda:0'))\n",
        "```"
      ],
      "metadata": {
        "id": "Ir9qSaj6it4n"
      }
    },
    {
      "cell_type": "code",
      "source": [
        "# Set random seed\n",
        "torch.manual_seed(1234)\n",
        "tensor3 = torch.rand(2, 3).to(device=device)\n",
        "\n",
        "torch.manual_seed(1234)\n",
        "tensor4 = torch.rand(2, 3).to(device=device)\n",
        "print(tensor3.device, tensor4.device)\n",
        "print(tensor3==tensor4)\n"
      ],
      "metadata": {
        "id": "azXExiFZj5nm",
        "colab": {
          "base_uri": "https://localhost:8080/"
        },
        "outputId": "b1f61b3f-748f-4291-90e0-a59dd91a5e8d"
      },
      "execution_count": 23,
      "outputs": [
        {
          "output_type": "stream",
          "name": "stdout",
          "text": [
            "cuda:0 cuda:0\n",
            "tensor([[True, True, True],\n",
            "        [True, True, True]], device='cuda:0')\n"
          ]
        }
      ]
    },
    {
      "cell_type": "code",
      "source": [
        "!nvidia-smi\n"
      ],
      "metadata": {
        "colab": {
          "base_uri": "https://localhost:8080/"
        },
        "id": "wazdkdDTYA6n",
        "outputId": "2fabdfa1-f1c7-4ec1-eb28-06e26c636d8a"
      },
      "execution_count": 22,
      "outputs": [
        {
          "output_type": "stream",
          "name": "stdout",
          "text": [
            "Tue Jan 31 01:10:30 2023       \n",
            "+-----------------------------------------------------------------------------+\n",
            "| NVIDIA-SMI 510.47.03    Driver Version: 510.47.03    CUDA Version: 11.6     |\n",
            "|-------------------------------+----------------------+----------------------+\n",
            "| GPU  Name        Persistence-M| Bus-Id        Disp.A | Volatile Uncorr. ECC |\n",
            "| Fan  Temp  Perf  Pwr:Usage/Cap|         Memory-Usage | GPU-Util  Compute M. |\n",
            "|                               |                      |               MIG M. |\n",
            "|===============================+======================+======================|\n",
            "|   0  Tesla T4            Off  | 00000000:00:04.0 Off |                    0 |\n",
            "| N/A   63C    P0    27W /  70W |    794MiB / 15360MiB |      0%      Default |\n",
            "|                               |                      |                  N/A |\n",
            "+-------------------------------+----------------------+----------------------+\n",
            "                                                                               \n",
            "+-----------------------------------------------------------------------------+\n",
            "| Processes:                                                                  |\n",
            "|  GPU   GI   CI        PID   Type   Process name                  GPU Memory |\n",
            "|        ID   ID                                                   Usage      |\n",
            "|=============================================================================|\n",
            "|    0   N/A  N/A      3320      C                                     791MiB |\n",
            "+-----------------------------------------------------------------------------+\n"
          ]
        }
      ]
    },
    {
      "cell_type": "markdown",
      "source": [
        "\n",
        "### 7. Perform a matrix multiplication on the tensors you created in 6 (again, you may have to adjust the shapes of one of the tensors).\n",
        "\n",
        "The output should look like:\n",
        "```\n",
        "(tensor([[0.3647, 0.4709],\n",
        "         [0.5184, 0.5617]], device='cuda:0'), torch.Size([2, 2]))\n",
        "```"
      ],
      "metadata": {
        "id": "5TlAxeiSiu1y"
      }
    },
    {
      "cell_type": "code",
      "source": [
        "# Perform matmul on tensor_A and tensor_B\n",
        "output =torch.matmul(tensor3, tensor4.T)\n",
        "print(output)"
      ],
      "metadata": {
        "id": "fAeG7ox0lHEO",
        "colab": {
          "base_uri": "https://localhost:8080/"
        },
        "outputId": "7916dc2c-3fe5-4566-c715-e1538a852a59"
      },
      "execution_count": 25,
      "outputs": [
        {
          "output_type": "stream",
          "name": "stdout",
          "text": [
            "tensor([[0.2299, 0.2161],\n",
            "        [0.2161, 0.6287]], device='cuda:0')\n"
          ]
        }
      ]
    },
    {
      "cell_type": "markdown",
      "source": [
        "### 8. Find the maximum and minimum values of the output of 7."
      ],
      "metadata": {
        "id": "G7qfa5CSivwg"
      }
    },
    {
      "cell_type": "code",
      "source": [
        "# Find max\n",
        "print(output.max())\n",
        "print(torch.max(output))\n",
        "\n",
        "\n",
        "# Find min\n",
        "print(output.min())\n",
        "print(torch.min(output))\n"
      ],
      "metadata": {
        "id": "Fu8_3mZpllOd",
        "colab": {
          "base_uri": "https://localhost:8080/"
        },
        "outputId": "17042047-49ee-4a60-d98c-25f11fca6960"
      },
      "execution_count": 19,
      "outputs": [
        {
          "output_type": "stream",
          "name": "stdout",
          "text": [
            "tensor(0.7597, device='cuda:0')\n",
            "tensor(0.7597, device='cuda:0')\n",
            "tensor(0.0031, device='cuda:0')\n",
            "tensor(0.0031, device='cuda:0')\n"
          ]
        }
      ]
    },
    {
      "cell_type": "markdown",
      "source": [
        "### 9. Find the maximum and minimum index values of the output of 7."
      ],
      "metadata": {
        "id": "wrTj5FgNiw47"
      }
    },
    {
      "cell_type": "code",
      "source": [
        "# Find arg max\n",
        "print(output.argmax())\n",
        "\n",
        "\n",
        "# Find arg min\n",
        "print(output.argmin())\n",
        "\n"
      ],
      "metadata": {
        "id": "CCEKt4K2lsfQ",
        "colab": {
          "base_uri": "https://localhost:8080/"
        },
        "outputId": "bba3e22e-29e5-4e50-cb08-a14973a16c0a"
      },
      "execution_count": 21,
      "outputs": [
        {
          "output_type": "stream",
          "name": "stdout",
          "text": [
            "tensor(7, device='cuda:0')\n",
            "tensor(2, device='cuda:0')\n"
          ]
        }
      ]
    },
    {
      "cell_type": "markdown",
      "source": [
        "\n",
        "### 10. Make a random tensor with shape `(1, 1, 1, 10)` and then create a new tensor with all the `1` dimensions removed to be left with a tensor of shape `(10)`. Set the seed to `7` when you create it and print out the first tensor and it's shape as well as the second tensor and it's shape.\n",
        "\n",
        "The output should look like:\n",
        "\n",
        "```\n",
        "tensor([[[[0.5349, 0.1988, 0.6592, 0.6569, 0.2328, 0.4251, 0.2071, 0.6297,\n",
        "           0.3653, 0.8513]]]]) torch.Size([1, 1, 1, 10])\n",
        "tensor([0.5349, 0.1988, 0.6592, 0.6569, 0.2328, 0.4251, 0.2071, 0.6297, 0.3653,\n",
        "        0.8513]) torch.Size([10])\n",
        "```"
      ],
      "metadata": {
        "id": "hmeybz4uixy7"
      }
    },
    {
      "cell_type": "code",
      "source": [
        "torch.manual_seed(1234)\n",
        "tensor5= torch.rand(1, 1, 1, 10)\n",
        "\n",
        "tensor6= tensor5.squeeze()\n",
        "print(tensor5)\n",
        "print(tensor5.shape)\n",
        "\n",
        "print(tensor6)\n",
        "print(tensor6.shape)\n",
        "\n",
        "\n",
        "\n"
      ],
      "metadata": {
        "id": "TQ9zbRzVl1jV",
        "colab": {
          "base_uri": "https://localhost:8080/"
        },
        "outputId": "03b987b6-3eac-408b-9b00-745a19ec8b48"
      },
      "execution_count": 26,
      "outputs": [
        {
          "output_type": "stream",
          "name": "stdout",
          "text": [
            "tensor([[[[0.0290, 0.4019, 0.2598, 0.3666, 0.0583, 0.7006, 0.0518, 0.4681,\n",
            "           0.6738, 0.3315]]]])\n",
            "torch.Size([1, 1, 1, 10])\n",
            "tensor([0.0290, 0.4019, 0.2598, 0.3666, 0.0583, 0.7006, 0.0518, 0.4681, 0.6738,\n",
            "        0.3315])\n",
            "torch.Size([10])\n"
          ]
        }
      ]
    },
    {
      "cell_type": "code",
      "source": [],
      "metadata": {
        "id": "_DdSmR7aZtqA"
      },
      "execution_count": null,
      "outputs": []
    }
  ]
}